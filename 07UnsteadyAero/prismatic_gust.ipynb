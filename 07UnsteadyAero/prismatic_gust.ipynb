{
 "cells": [
  {
   "cell_type": "markdown",
   "metadata": {},
   "source": [
    "# Dynamic response of a prismatic cantilever wing to a ``1-cos'' gust. \n",
    "\n",
    "Example of static and dynamic aeroelastic solutions on a cantilever wing using geometrically-nonlinear beams and UVLM aerodynamics. It solves either a rigid or a flexible cantilever wing in an airflor with a spanwise-uniform 1-cos gust profile. The wing can be swept such that the gust enters through either the root (sweptback) or the tip (sweptforward).\n",
    "\n",
    "This script can be used to retrieve the following examples in Palacios & Cesnik's book:\n",
    "1. Example 7.1: Set Rigid=False, aoa=0. in Problem definition below. Change sweep angle to obtain Fig 7.9b.\n",
    "2. Example 9.1..Set Rigid=True and sweep_angle=0. in Problem definition. Change rho and aoa to obtain the different figures in the book\n",
    "\n",
    "It runs with SHARPy v.2.0 (www.imperial.ac.uk/aeroelastics/sharpy)\n",
    "\n",
    "Latest update: Rafael Palacios (r.palacios@imperial.ac.uk) May 2023\n",
    "\n",
    "NOTE: With the current settings to ensure fine convergence on multiple runs, this script takes about 5 hours on a desktop computer.\n"
   ]
  },
  {
   "cell_type": "markdown",
   "metadata": {},
   "source": [
    "## Initialization\n",
    "### Required packages\n",
    "Import some python packages, SHARPy and some SHARPy utilities."
   ]
  },
  {
   "cell_type": "code",
   "execution_count": 22,
   "metadata": {},
   "outputs": [],
   "source": [
    "import numpy as np                         # basic mathematical and array functions\n",
    "import os                                  # Functions related to the operating system\n",
    "import matplotlib.pyplot as plt            # Plotting library\n",
    "\n",
    "import sharpy.sharpy_main                  # Run SHARPy inside jupyter notebooks\n",
    "import sharpy.utils.plotutils as pu        # Plotting utilities\n",
    "import sharpy.utils.generate_cases as gc   # Automate model generation.\n",
    "import sharpy.utils.algebra as algebra\n",
    "\n",
    "plt.rcParams.update({'font.size': 20})     # Large fonts in all plots"
   ]
  },
  {
   "cell_type": "markdown",
   "metadata": {},
   "source": [
    "### Initializing simulation environment"
   ]
  },
  {
   "cell_type": "code",
   "execution_count": 23,
   "metadata": {},
   "outputs": [],
   "source": [
    "SimInfo = gc.SimulationInformation() # Initialises the SimulationInformation class\n",
    "SimInfo.set_default_values()         # Assigns the default values to all the solvers"
   ]
  },
  {
   "cell_type": "code",
   "execution_count": 24,
   "metadata": {},
   "outputs": [
    {
     "ename": "FileExistsError",
     "evalue": "[Errno 17] File exists: 'output/'",
     "output_type": "error",
     "traceback": [
      "\u001b[0;31m---------------------------------------------------------------------------\u001b[0m",
      "\u001b[0;31mFileExistsError\u001b[0m                           Traceback (most recent call last)",
      "Cell \u001b[0;32mIn[24], line 2\u001b[0m\n\u001b[1;32m      1\u001b[0m OutputDir\u001b[38;5;241m=\u001b[39m\u001b[38;5;124m'\u001b[39m\u001b[38;5;124moutput/\u001b[39m\u001b[38;5;124m'\u001b[39m\n\u001b[0;32m----> 2\u001b[0m \u001b[43mos\u001b[49m\u001b[38;5;241;43m.\u001b[39;49m\u001b[43mmkdir\u001b[49m\u001b[43m(\u001b[49m\u001b[43mOutputDir\u001b[49m\u001b[43m)\u001b[49m\n\u001b[1;32m      3\u001b[0m SimInfo\u001b[38;5;241m.\u001b[39msolvers[\u001b[38;5;124m'\u001b[39m\u001b[38;5;124mSHARPy\u001b[39m\u001b[38;5;124m'\u001b[39m][\u001b[38;5;124m'\u001b[39m\u001b[38;5;124mroute\u001b[39m\u001b[38;5;124m'\u001b[39m] \u001b[38;5;241m=\u001b[39m OutputDir         \u001b[38;5;66;03m# Folder where outputs are written.\u001b[39;00m\n\u001b[1;32m      4\u001b[0m SimInfo\u001b[38;5;241m.\u001b[39msolvers[\u001b[38;5;124m'\u001b[39m\u001b[38;5;124mSHARPy\u001b[39m\u001b[38;5;124m'\u001b[39m][\u001b[38;5;124m'\u001b[39m\u001b[38;5;124mwrite_screen\u001b[39m\u001b[38;5;124m'\u001b[39m] \u001b[38;5;241m=\u001b[39m \u001b[38;5;124m'\u001b[39m\u001b[38;5;124moff\u001b[39m\u001b[38;5;124m'\u001b[39m\n",
      "\u001b[0;31mFileExistsError\u001b[0m: [Errno 17] File exists: 'output/'"
     ]
    }
   ],
   "source": [
    "OutputDir='output/'\n",
    "if not os.path.exists(OutputDir):\n",
    "    os.mkdir(OutputDir)\n",
    "SimInfo.solvers['SHARPy']['route'] = OutputDir         # Folder where outputs are written.\n",
    "SimInfo.solvers['SHARPy']['write_screen'] = 'off'"
   ]
  },
  {
   "cell_type": "code",
   "execution_count": 4,
   "metadata": {},
   "outputs": [],
   "source": [
    "airfoil = gc.AeroelasticInformation()  # Initialize aeroelastic model."
   ]
  },
  {
   "cell_type": "markdown",
   "metadata": {},
   "source": [
    "## Problem definition"
   ]
  },
  {
   "cell_type": "code",
   "execution_count": 5,
   "metadata": {},
   "outputs": [],
   "source": [
    "### Wing parameters"
   ]
  },
  {
   "cell_type": "code",
   "execution_count": 6,
   "metadata": {},
   "outputs": [],
   "source": [
    "Rigid=True        # Toggle on/off to select simulation of a rigid or a flexible wing."
   ]
  },
  {
   "cell_type": "code",
   "execution_count": 7,
   "metadata": {},
   "outputs": [],
   "source": [
    "# Geometry\n",
    "chord = 1.                  # Wind chord (constant)\n",
    "aspect_ratio = 16.          # Ratio between chord and semispan: aspect_ratio = semispan/chord\n",
    "wake_length = 25            # Length of the wake in chord lengths - a suiciently long wake is needed for convergence.\n",
    "sweep_angle = 0.*np.pi/180. # Wing sweep in rad, positive backwards.\n",
    "\n",
    "# Discretization\n",
    "num_node = 21               # Number of nodes in the structural discretisation. They also define \n",
    "                            # the aerodynamic panels in the spanwise direction\n",
    "num_chord_panels = 5        # Number of aerodynamic panels in the chordwise direction\n",
    "num_points_camber = 20      # Number of points that define the camber line of the airfoil\n",
    "\n",
    "# Structural properties of the beam cross section\n",
    "mass_per_unit_length = 0.75 # Mass per unit length\n",
    "mass_iner_x = 0.1           # Mass moment of inertia around the local x axis\n",
    "mass_iner_y = 0.001         # Mass momen of inertia around the local y axis\n",
    "mass_iner_z = 0.001         # Mass moment of inertia around the local z axis\n",
    "pos_cg_B = np.zeros((3))    # Position of the centre of mass with respect to the elastic axis\n",
    "EA = 1e6                    # Axial stiffness\n",
    "GAy = 1e6                   # Shear stiffness in the local y axis\n",
    "GAz = 1e6                   # Shear stiffness in the local z axis\n",
    "GJ = 1e4                    # Torsional stiffness\n",
    "EIy = 2e4                   # Bending stiffness around the flapwise direction\n",
    "EIz = 5e6                   # Bending stiffness around the edgewise direction\n",
    "\n",
    "# Flight conditions \n",
    "Vinf= 5.                    # Wind speed in m/s\n",
    "rho = 1.                    # Density in kg/m3 (default 0.1.)\n",
    "beta= 0.*np.pi/180.         # Sideslip in rad\n",
    "aoa = 0.*np.pi/180.         # Angle of incidence of the wing in rad (default 10 deg)\n",
    "\n",
    "# Time discretization\n",
    "dt = chord/num_chord_panels/Vinf   # Always keep one timestep per panel"
   ]
  },
  {
   "cell_type": "markdown",
   "metadata": {},
   "source": [
    "### Generate structural model"
   ]
  },
  {
   "cell_type": "code",
   "execution_count": 8,
   "metadata": {},
   "outputs": [],
   "source": [
    "# Define the number of nodes and the number of nodes per element\n",
    "airfoil.StructuralInformation.num_node = num_node\n",
    "airfoil.StructuralInformation.num_node_elem = 3\n",
    "# Compute the number of elements assuming basic connections\n",
    "airfoil.StructuralInformation.compute_basic_num_elem()\n",
    "\n",
    "# Generate an array with the location of the nodes\n",
    "node_r = np.zeros((num_node, 3))\n",
    "node_r[:,1] = np.linspace(0, chord*aspect_ratio, num_node)"
   ]
  },
  {
   "cell_type": "code",
   "execution_count": 9,
   "metadata": {},
   "outputs": [],
   "source": [
    "#Send inputs to model generation function to produce a finite-element model of the wing\n",
    "airfoil.StructuralInformation.generate_uniform_beam(node_r,\n",
    "                    mass_per_unit_length,\n",
    "                    mass_iner_x, mass_iner_y, mass_iner_z,\n",
    "                    pos_cg_B,\n",
    "                    EA, GAy, GAz,\n",
    "                    GJ, EIy, EIz,\n",
    "                    num_node_elem = airfoil.StructuralInformation.num_node_elem,\n",
    "                    y_BFoR = 'x_AFoR',\n",
    "                    num_lumped_mass=0)\n",
    "airfoil.StructuralInformation.frame_of_reference_delta *= -1"
   ]
  },
  {
   "cell_type": "code",
   "execution_count": 10,
   "metadata": {},
   "outputs": [],
   "source": [
    "# Define structural simulation parameters. The angle of attack is introduced by rotating the \n",
    "# body-attached reference frame (at the wing root). \n",
    "SimInfo.solvers['BeamLoader']['unsteady'] = 'on'\n",
    "SimInfo.solvers['BeamLoader']['orientation'] = algebra.euler2quat(np.array([0.0,aoa,beta]))"
   ]
  },
  {
   "cell_type": "markdown",
   "metadata": {},
   "source": [
    "### Generate aerodynamic model"
   ]
  },
  {
   "cell_type": "code",
   "execution_count": 11,
   "metadata": {},
   "outputs": [],
   "source": [
    "# Compute the number of panels in the wake (streamwise direction) based on the previous paramete\n",
    "wake_panels = int(wake_length*chord/dt)\n",
    "\n",
    "# Define the coordinates of the camber line of the airfoils used. Here it is a flat plate.\n",
    "airfoil_camber = np.zeros((1, num_points_camber, 2))\n",
    "airfoil_camber[0, :, 0] = np.linspace(0, 1, num_points_camber)\n",
    "\n",
    "# Send inputs to model generation function to produce a vortex-lattice model of the wing.\n",
    "airfoil.AerodynamicInformation.create_one_uniform_aerodynamics (\n",
    "                                 airfoil.StructuralInformation,\n",
    "                                 chord = chord,\n",
    "                                 twist = 0.,\n",
    "                                 sweep = sweep_angle,                \n",
    "                                 num_chord_panels = num_chord_panels,\n",
    "                                 m_distribution = 'uniform',\n",
    "                                 elastic_axis = 0.5,                 # E.A. at mid chord\n",
    "                                 num_points_camber = num_points_camber,\n",
    "                                 airfoil = airfoil_camber)"
   ]
  },
  {
   "cell_type": "code",
   "execution_count": 12,
   "metadata": {},
   "outputs": [
    {
     "name": "stdout",
     "output_type": "stream",
     "text": [
      "\u001b[33mWARNING: Replacing node 41 by node 0\u001b[0m\n"
     ]
    }
   ],
   "source": [
    "# Duplicate the wing to create a symmetric system\n",
    "airfoil2 = airfoil.copy()\n",
    "airfoil2.StructuralInformation.coordinates -= airfoil.StructuralInformation.coordinates[-1, :]\n",
    "airfoil.assembly(airfoil2)\n",
    "airfoil.remove_duplicated_points(1e-9)\n",
    "\n",
    "#Define cantilever boundary conditions\n",
    "airfoil.StructuralInformation.boundary_conditions[0] = 1 # Clamped\n",
    "airfoil.StructuralInformation.boundary_conditions[num_node] = -1 # Free end (right wing)\n",
    "airfoil.StructuralInformation.boundary_conditions[num_node + 1] = -1 # Free end (left wing)"
   ]
  },
  {
   "cell_type": "code",
   "execution_count": 13,
   "metadata": {},
   "outputs": [],
   "source": [
    "# Define aerodynamic simulation parameters. Initialize a wake along the global X axis.\n",
    "SimInfo.solvers['AerogridLoader']['unsteady'] = 'on'\n",
    "SimInfo.solvers['AerogridLoader']['aligned_grid'] = 'on'\n",
    "SimInfo.solvers['AerogridLoader']['mstar'] = wake_panels\n",
    "SimInfo.solvers['AerogridLoader']['freestream_dir'] = np.array([1.,0.,0.])\n",
    "SimInfo.solvers['AerogridLoader']['wake_shape_generator'] = 'StraightWake'\n",
    "SimInfo.solvers['AerogridLoader']['wake_shape_generator_input'] = {'u_inf': Vinf,\n",
    "                                                                   'u_inf_direction' : np.array([1.,0.,0.]),\n",
    "                                                                   'dt' : dt}\n",
    "SimInfo.set_variable_all_dicts('rho', rho)"
   ]
  },
  {
   "cell_type": "markdown",
   "metadata": {},
   "source": [
    "### Define static simulation"
   ]
  },
  {
   "cell_type": "code",
   "execution_count": 14,
   "metadata": {},
   "outputs": [],
   "source": [
    "# Define the simulation steps.\n",
    "SimInfo.solvers['SHARPy']['flow'] = ['BeamLoader',\n",
    "                                     'AerogridLoader',\n",
    "                                     'StaticCoupled',\n",
    "                                     'BeamPlot',\n",
    "                                     'AerogridPlot']\n",
    "\n",
    "SimInfo.solvers['SHARPy']['case'] = 'case_static'\n",
    "\n",
    "SimInfo.solvers['StaticUvlm']['horseshoe'] = False    # Use finite wake as in the dynamic problem.\n",
    "SimInfo.solvers['StaticUvlm']['n_rollup'] = 0\n",
    "SimInfo.solvers['StaticUvlm']['velocity_field_generator'] = 'SteadyVelocityField'\n",
    "SimInfo.solvers['StaticUvlm']['velocity_field_input'] = {'u_inf': Vinf,\n",
    "                                                         'u_inf_direction': np.array([1.,0.,0.])}\n",
    "\n",
    "SimInfo.solvers['NonLinearStatic']['gravity_on'] = False   # Remove gravitational effects.\n",
    "SimInfo.solvers['NonLinearStatic']['max_iterations'] =150\n",
    "SimInfo.solvers['NonLinearStatic']['num_load_steps'] =1\n",
    "SimInfo.solvers['NonLinearStatic']['min_delta'] =1e-6\n",
    "SimInfo.solvers['NonLinearStatic']['gravity'] =9.754\n",
    "    \n",
    "if Rigid:\n",
    "    SimInfo.solvers['StaticCoupled']['structural_solver'] = 'RigidDynamicPrescribedStep'\n",
    "    SimInfo.solvers['StaticCoupled']['structural_solver_settings'] = SimInfo.solvers['RigidDynamicPrescribedStep']\n",
    "else:\n",
    "    SimInfo.solvers['StaticCoupled']['structural_solver'] = 'NonLinearStatic'\n",
    "    SimInfo.solvers['StaticCoupled']['structural_solver_settings'] = SimInfo.solvers['NonLinearStatic']\n",
    "SimInfo.solvers['StaticCoupled']['aero_solver'] = 'StaticUvlm'\n",
    "SimInfo.solvers['StaticCoupled']['aero_solver_settings'] = SimInfo.solvers['StaticUvlm']\n",
    "SimInfo.solvers['StaticCoupled']['n_load_steps'] = 0\n",
    "SimInfo.solvers['StaticCoupled']['relaxation_factor'] = 0.0\n",
    "\n",
    "SimInfo.solvers['StaticUvlm']['rollup_dt'] = dt\n",
    "SimInfo.solvers['StaticCoupled']['tolerance'] = 1.e-6\n",
    "SimInfo.solvers['StaticCoupled']['max_iter'] = 50\n",
    "\n",
    "SimInfo.solvers['AeroForcesCalculator'] = {'write_text_file': 'on',\n",
    "                                          'screen_output': 'off'}"
   ]
  },
  {
   "cell_type": "markdown",
   "metadata": {},
   "source": [
    "### Define dynamic simulation"
   ]
  },
  {
   "cell_type": "code",
   "execution_count": 15,
   "metadata": {},
   "outputs": [],
   "source": [
    "SimInfo.solvers['SHARPy']['flow'] = [\n",
    "                        'BeamLoader',\n",
    "                        'AerogridLoader',\n",
    "                        'StaticCoupled',\n",
    "                        'AeroForcesCalculator',\n",
    "                        'DynamicCoupled']\n",
    "SimInfo.solvers['SHARPy']['case'] = 'cdynamic'"
   ]
  },
  {
   "cell_type": "code",
   "execution_count": 16,
   "metadata": {},
   "outputs": [],
   "source": [
    "end_time=2.0            # RPN 5\n",
    "time_steps = int(end_time/dt)\n",
    "\n",
    "SimInfo.set_variable_all_dicts('dt', dt)\n",
    "SimInfo.define_num_steps(time_steps)"
   ]
  },
  {
   "cell_type": "code",
   "execution_count": 17,
   "metadata": {},
   "outputs": [],
   "source": [
    "SimInfo.solvers['StepUvlm']['convection_scheme'] = 2  \n",
    "SimInfo.solvers['StepUvlm']['velocity_field_generator'] = 'GustVelocityField'\n",
    "\n",
    "SimInfo.solvers['NonLinearDynamicPrescribedStep']['gravity_on'] = False\n",
    "\n",
    "if Rigid:\n",
    "    SimInfo.solvers['DynamicCoupled']['structural_solver'] = 'RigidDynamicPrescribedStep'\n",
    "    SimInfo.solvers['DynamicCoupled']['structural_solver_settings'] = SimInfo.solvers['RigidDynamicPrescribedStep']\n",
    "else:\n",
    "    SimInfo.solvers['DynamicCoupled']['structural_solver'] = 'NonLinearDynamicPrescribedStep'\n",
    "    SimInfo.solvers['DynamicCoupled']['structural_solver_settings'] = SimInfo.solvers['NonLinearDynamicPrescribedStep']\n",
    "SimInfo.solvers['DynamicCoupled']['aero_solver'] = 'StepUvlm'\n",
    "SimInfo.solvers['DynamicCoupled']['aero_solver_settings'] = SimInfo.solvers['StepUvlm']\n",
    "SimInfo.solvers['DynamicCoupled']['postprocessors'] = ['BeamPlot', 'AerogridPlot', 'AeroForcesCalculator', 'WriteVariablesTime']\n",
    "SimInfo.solvers['DynamicCoupled']['postprocessors_settings'] = {\n",
    "                          'BeamPlot': SimInfo.solvers['BeamPlot'],\n",
    "                          'AerogridPlot': SimInfo.solvers['AerogridPlot'],\n",
    "                          'AeroForcesCalculator': SimInfo.solvers['AeroForcesCalculator'],\n",
    "                          'WriteVariablesTime': {'structure_nodes': num_node,  # free end node_id\n",
    "                                                 'structure_variables': ['pos'],\n",
    "                                                 'cleanup_old_solution': 'on',\n",
    "                                                },\n",
    "                                                                }\n",
    "SimInfo.solvers['DynamicCoupled']['include_unsteady_force_contribution'] = True"
   ]
  },
  {
   "cell_type": "code",
   "execution_count": 18,
   "metadata": {},
   "outputs": [
    {
     "ename": "FileNotFoundError",
     "evalue": "[Errno 2] Unable to synchronously create file (unable to open file: name = 'output//cdynamic.fem.h5', errno = 2, error message = 'No such file or directory', flags = 15, o_flags = c2)",
     "output_type": "error",
     "traceback": [
      "\u001b[0;31m---------------------------------------------------------------------------\u001b[0m",
      "\u001b[0;31mFileNotFoundError\u001b[0m                         Traceback (most recent call last)",
      "File \u001b[0;32m~/anaconda3/envs/sharpy/lib/python3.10/site-packages/h5py/_hl/files.py:243\u001b[0m, in \u001b[0;36mmake_fid\u001b[0;34m(name, mode, userblock_size, fapl, fcpl, swmr)\u001b[0m\n\u001b[1;32m    242\u001b[0m \u001b[38;5;28;01mtry\u001b[39;00m:\n\u001b[0;32m--> 243\u001b[0m     fid \u001b[38;5;241m=\u001b[39m \u001b[43mh5f\u001b[49m\u001b[38;5;241;43m.\u001b[39;49m\u001b[43mopen\u001b[49m\u001b[43m(\u001b[49m\u001b[43mname\u001b[49m\u001b[43m,\u001b[49m\u001b[43m \u001b[49m\u001b[43mh5f\u001b[49m\u001b[38;5;241;43m.\u001b[39;49m\u001b[43mACC_RDWR\u001b[49m\u001b[43m,\u001b[49m\u001b[43m \u001b[49m\u001b[43mfapl\u001b[49m\u001b[38;5;241;43m=\u001b[39;49m\u001b[43mfapl\u001b[49m\u001b[43m)\u001b[49m\n\u001b[1;32m    244\u001b[0m \u001b[38;5;66;03m# Not all drivers raise FileNotFoundError (commented those that do not)\u001b[39;00m\n",
      "File \u001b[0;32mh5py/_objects.pyx:54\u001b[0m, in \u001b[0;36mh5py._objects.with_phil.wrapper\u001b[0;34m()\u001b[0m\n",
      "File \u001b[0;32mh5py/_objects.pyx:55\u001b[0m, in \u001b[0;36mh5py._objects.with_phil.wrapper\u001b[0;34m()\u001b[0m\n",
      "File \u001b[0;32mh5py/h5f.pyx:106\u001b[0m, in \u001b[0;36mh5py.h5f.open\u001b[0;34m()\u001b[0m\n",
      "\u001b[0;31mFileNotFoundError\u001b[0m: [Errno 2] Unable to synchronously open file (unable to open file: name = 'output//cdynamic.fem.h5', errno = 2, error message = 'No such file or directory', flags = 1, o_flags = 2)",
      "\nDuring handling of the above exception, another exception occurred:\n",
      "\u001b[0;31mFileNotFoundError\u001b[0m                         Traceback (most recent call last)",
      "Cell \u001b[0;32mIn[18], line 19\u001b[0m\n\u001b[1;32m      9\u001b[0m SimInfo\u001b[38;5;241m.\u001b[39msolvers[\u001b[38;5;124m'\u001b[39m\u001b[38;5;124mStepUvlm\u001b[39m\u001b[38;5;124m'\u001b[39m][\u001b[38;5;124m'\u001b[39m\u001b[38;5;124mvelocity_field_input\u001b[39m\u001b[38;5;124m'\u001b[39m] \u001b[38;5;241m=\u001b[39m {\n\u001b[1;32m     10\u001b[0m                                     \u001b[38;5;124m'\u001b[39m\u001b[38;5;124mu_inf\u001b[39m\u001b[38;5;124m'\u001b[39m : Vinf,\n\u001b[1;32m     11\u001b[0m                                     \u001b[38;5;124m'\u001b[39m\u001b[38;5;124mu_inf_direction\u001b[39m\u001b[38;5;124m'\u001b[39m: np\u001b[38;5;241m.\u001b[39marray([\u001b[38;5;241m1.\u001b[39m,\u001b[38;5;241m0.\u001b[39m,\u001b[38;5;241m0.\u001b[39m]),\n\u001b[0;32m   (...)\u001b[0m\n\u001b[1;32m     15\u001b[0m                                                    \u001b[38;5;124m'\u001b[39m\u001b[38;5;124mgust_length\u001b[39m\u001b[38;5;124m'\u001b[39m: gust_length,\n\u001b[1;32m     16\u001b[0m                                                    \u001b[38;5;124m'\u001b[39m\u001b[38;5;124mgust_intensity\u001b[39m\u001b[38;5;124m'\u001b[39m:w0}}\n\u001b[1;32m     18\u001b[0m gc\u001b[38;5;241m.\u001b[39mclean_test_files(SimInfo\u001b[38;5;241m.\u001b[39msolvers[\u001b[38;5;124m'\u001b[39m\u001b[38;5;124mSHARPy\u001b[39m\u001b[38;5;124m'\u001b[39m][\u001b[38;5;124m'\u001b[39m\u001b[38;5;124mroute\u001b[39m\u001b[38;5;124m'\u001b[39m], SimInfo\u001b[38;5;241m.\u001b[39msolvers[\u001b[38;5;124m'\u001b[39m\u001b[38;5;124mSHARPy\u001b[39m\u001b[38;5;124m'\u001b[39m][\u001b[38;5;124m'\u001b[39m\u001b[38;5;124mcase\u001b[39m\u001b[38;5;124m'\u001b[39m])\n\u001b[0;32m---> 19\u001b[0m \u001b[43mairfoil\u001b[49m\u001b[38;5;241;43m.\u001b[39;49m\u001b[43mgenerate_h5_files\u001b[49m\u001b[43m(\u001b[49m\u001b[43mSimInfo\u001b[49m\u001b[38;5;241;43m.\u001b[39;49m\u001b[43msolvers\u001b[49m\u001b[43m[\u001b[49m\u001b[38;5;124;43m'\u001b[39;49m\u001b[38;5;124;43mSHARPy\u001b[39;49m\u001b[38;5;124;43m'\u001b[39;49m\u001b[43m]\u001b[49m\u001b[43m[\u001b[49m\u001b[38;5;124;43m'\u001b[39;49m\u001b[38;5;124;43mroute\u001b[39;49m\u001b[38;5;124;43m'\u001b[39;49m\u001b[43m]\u001b[49m\u001b[43m,\u001b[49m\u001b[43m \u001b[49m\u001b[43mSimInfo\u001b[49m\u001b[38;5;241;43m.\u001b[39;49m\u001b[43msolvers\u001b[49m\u001b[43m[\u001b[49m\u001b[38;5;124;43m'\u001b[39;49m\u001b[38;5;124;43mSHARPy\u001b[39;49m\u001b[38;5;124;43m'\u001b[39;49m\u001b[43m]\u001b[49m\u001b[43m[\u001b[49m\u001b[38;5;124;43m'\u001b[39;49m\u001b[38;5;124;43mcase\u001b[39;49m\u001b[38;5;124;43m'\u001b[39;49m\u001b[43m]\u001b[49m\u001b[43m)\u001b[49m\n\u001b[1;32m     20\u001b[0m SimInfo\u001b[38;5;241m.\u001b[39mgenerate_solver_file()\n\u001b[1;32m     21\u001b[0m SimInfo\u001b[38;5;241m.\u001b[39mgenerate_dyn_file(time_steps)\n",
      "File \u001b[0;32m~/anaconda3/envs/sharpy/lib/python3.10/site-packages/sharpy/utils/generate_cases.py:1723\u001b[0m, in \u001b[0;36mAeroelasticInformation.generate_h5_files\u001b[0;34m(self, route, case_name)\u001b[0m\n\u001b[1;32m   1717\u001b[0m \u001b[38;5;250m\u001b[39m\u001b[38;5;124;03m\"\"\"\u001b[39;00m\n\u001b[1;32m   1718\u001b[0m \u001b[38;5;124;03mwrite_h5_files\u001b[39;00m\n\u001b[1;32m   1719\u001b[0m \n\u001b[1;32m   1720\u001b[0m \u001b[38;5;124;03mWrites the structural and aerodynamic h5 files\u001b[39;00m\n\u001b[1;32m   1721\u001b[0m \u001b[38;5;124;03m\"\"\"\u001b[39;00m\n\u001b[1;32m   1722\u001b[0m \u001b[38;5;28mself\u001b[39m\u001b[38;5;241m.\u001b[39mcheck()\n\u001b[0;32m-> 1723\u001b[0m \u001b[38;5;28;43mself\u001b[39;49m\u001b[38;5;241;43m.\u001b[39;49m\u001b[43mStructuralInformation\u001b[49m\u001b[38;5;241;43m.\u001b[39;49m\u001b[43mgenerate_fem_file\u001b[49m\u001b[43m(\u001b[49m\u001b[43mroute\u001b[49m\u001b[43m,\u001b[49m\u001b[43m \u001b[49m\u001b[43mcase_name\u001b[49m\u001b[43m)\u001b[49m\n\u001b[1;32m   1724\u001b[0m \u001b[38;5;28mself\u001b[39m\u001b[38;5;241m.\u001b[39mAerodynamicInformation\u001b[38;5;241m.\u001b[39mgenerate_aero_file(route, case_name, \u001b[38;5;28mself\u001b[39m\u001b[38;5;241m.\u001b[39mStructuralInformation)\n",
      "File \u001b[0;32m~/anaconda3/envs/sharpy/lib/python3.10/site-packages/sharpy/utils/generate_cases.py:999\u001b[0m, in \u001b[0;36mStructuralInformation.generate_fem_file\u001b[0;34m(self, route, case_name)\u001b[0m\n\u001b[1;32m    997\u001b[0m \u001b[38;5;28mself\u001b[39m\u001b[38;5;241m.\u001b[39mcheck_StructuralInformation()\n\u001b[1;32m    998\u001b[0m \u001b[38;5;66;03m# Writting the file\u001b[39;00m\n\u001b[0;32m--> 999\u001b[0m \u001b[38;5;28;01mwith\u001b[39;00m \u001b[43mh5\u001b[49m\u001b[38;5;241;43m.\u001b[39;49m\u001b[43mFile\u001b[49m\u001b[43m(\u001b[49m\u001b[43mroute\u001b[49m\u001b[43m \u001b[49m\u001b[38;5;241;43m+\u001b[39;49m\u001b[43m \u001b[49m\u001b[38;5;124;43m'\u001b[39;49m\u001b[38;5;124;43m/\u001b[39;49m\u001b[38;5;124;43m'\u001b[39;49m\u001b[43m \u001b[49m\u001b[38;5;241;43m+\u001b[39;49m\u001b[43m \u001b[49m\u001b[43mcase_name\u001b[49m\u001b[43m \u001b[49m\u001b[38;5;241;43m+\u001b[39;49m\u001b[43m \u001b[49m\u001b[38;5;124;43m'\u001b[39;49m\u001b[38;5;124;43m.fem.h5\u001b[39;49m\u001b[38;5;124;43m'\u001b[39;49m\u001b[43m,\u001b[49m\u001b[43m \u001b[49m\u001b[38;5;124;43m'\u001b[39;49m\u001b[38;5;124;43ma\u001b[39;49m\u001b[38;5;124;43m'\u001b[39;49m\u001b[43m)\u001b[49m \u001b[38;5;28;01mas\u001b[39;00m h5file:\n\u001b[1;32m   1000\u001b[0m     \u001b[38;5;66;03m# TODO: include something to write only exsisting variables\u001b[39;00m\n\u001b[1;32m   1001\u001b[0m     h5file\u001b[38;5;241m.\u001b[39mcreate_dataset(\u001b[38;5;124m'\u001b[39m\u001b[38;5;124mcoordinates\u001b[39m\u001b[38;5;124m'\u001b[39m, data\u001b[38;5;241m=\u001b[39m\u001b[38;5;28mself\u001b[39m\u001b[38;5;241m.\u001b[39mcoordinates)\n\u001b[1;32m   1002\u001b[0m     h5file\u001b[38;5;241m.\u001b[39mcreate_dataset(\u001b[38;5;124m'\u001b[39m\u001b[38;5;124mconnectivities\u001b[39m\u001b[38;5;124m'\u001b[39m, data\u001b[38;5;241m=\u001b[39m\u001b[38;5;28mself\u001b[39m\u001b[38;5;241m.\u001b[39mconnectivities)\n",
      "File \u001b[0;32m~/anaconda3/envs/sharpy/lib/python3.10/site-packages/h5py/_hl/files.py:567\u001b[0m, in \u001b[0;36mFile.__init__\u001b[0;34m(self, name, mode, driver, libver, userblock_size, swmr, rdcc_nslots, rdcc_nbytes, rdcc_w0, track_order, fs_strategy, fs_persist, fs_threshold, fs_page_size, page_buf_size, min_meta_keep, min_raw_keep, locking, alignment_threshold, alignment_interval, meta_block_size, **kwds)\u001b[0m\n\u001b[1;32m    558\u001b[0m     fapl \u001b[38;5;241m=\u001b[39m make_fapl(driver, libver, rdcc_nslots, rdcc_nbytes, rdcc_w0,\n\u001b[1;32m    559\u001b[0m                      locking, page_buf_size, min_meta_keep, min_raw_keep,\n\u001b[1;32m    560\u001b[0m                      alignment_threshold\u001b[38;5;241m=\u001b[39malignment_threshold,\n\u001b[1;32m    561\u001b[0m                      alignment_interval\u001b[38;5;241m=\u001b[39malignment_interval,\n\u001b[1;32m    562\u001b[0m                      meta_block_size\u001b[38;5;241m=\u001b[39mmeta_block_size,\n\u001b[1;32m    563\u001b[0m                      \u001b[38;5;241m*\u001b[39m\u001b[38;5;241m*\u001b[39mkwds)\n\u001b[1;32m    564\u001b[0m     fcpl \u001b[38;5;241m=\u001b[39m make_fcpl(track_order\u001b[38;5;241m=\u001b[39mtrack_order, fs_strategy\u001b[38;5;241m=\u001b[39mfs_strategy,\n\u001b[1;32m    565\u001b[0m                      fs_persist\u001b[38;5;241m=\u001b[39mfs_persist, fs_threshold\u001b[38;5;241m=\u001b[39mfs_threshold,\n\u001b[1;32m    566\u001b[0m                      fs_page_size\u001b[38;5;241m=\u001b[39mfs_page_size)\n\u001b[0;32m--> 567\u001b[0m     fid \u001b[38;5;241m=\u001b[39m \u001b[43mmake_fid\u001b[49m\u001b[43m(\u001b[49m\u001b[43mname\u001b[49m\u001b[43m,\u001b[49m\u001b[43m \u001b[49m\u001b[43mmode\u001b[49m\u001b[43m,\u001b[49m\u001b[43m \u001b[49m\u001b[43muserblock_size\u001b[49m\u001b[43m,\u001b[49m\u001b[43m \u001b[49m\u001b[43mfapl\u001b[49m\u001b[43m,\u001b[49m\u001b[43m \u001b[49m\u001b[43mfcpl\u001b[49m\u001b[43m,\u001b[49m\u001b[43m \u001b[49m\u001b[43mswmr\u001b[49m\u001b[38;5;241;43m=\u001b[39;49m\u001b[43mswmr\u001b[49m\u001b[43m)\u001b[49m\n\u001b[1;32m    569\u001b[0m \u001b[38;5;28;01mif\u001b[39;00m \u001b[38;5;28misinstance\u001b[39m(libver, \u001b[38;5;28mtuple\u001b[39m):\n\u001b[1;32m    570\u001b[0m     \u001b[38;5;28mself\u001b[39m\u001b[38;5;241m.\u001b[39m_libver \u001b[38;5;241m=\u001b[39m libver\n",
      "File \u001b[0;32m~/anaconda3/envs/sharpy/lib/python3.10/site-packages/h5py/_hl/files.py:257\u001b[0m, in \u001b[0;36mmake_fid\u001b[0;34m(name, mode, userblock_size, fapl, fcpl, swmr)\u001b[0m\n\u001b[1;32m    244\u001b[0m     \u001b[38;5;66;03m# Not all drivers raise FileNotFoundError (commented those that do not)\u001b[39;00m\n\u001b[1;32m    245\u001b[0m     \u001b[38;5;28;01mexcept\u001b[39;00m \u001b[38;5;167;01mFileNotFoundError\u001b[39;00m \u001b[38;5;28;01mif\u001b[39;00m fapl\u001b[38;5;241m.\u001b[39mget_driver() \u001b[38;5;129;01min\u001b[39;00m (\n\u001b[1;32m    246\u001b[0m         h5fd\u001b[38;5;241m.\u001b[39mSEC2,\n\u001b[1;32m    247\u001b[0m         h5fd\u001b[38;5;241m.\u001b[39mDIRECT \u001b[38;5;28;01mif\u001b[39;00m direct_vfd \u001b[38;5;28;01melse\u001b[39;00m \u001b[38;5;241m-\u001b[39m\u001b[38;5;241m1\u001b[39m,\n\u001b[0;32m   (...)\u001b[0m\n\u001b[1;32m    255\u001b[0m         h5fd\u001b[38;5;241m.\u001b[39mROS3D \u001b[38;5;28;01mif\u001b[39;00m ros3 \u001b[38;5;28;01melse\u001b[39;00m \u001b[38;5;241m-\u001b[39m\u001b[38;5;241m1\u001b[39m,\n\u001b[1;32m    256\u001b[0m     ) \u001b[38;5;28;01melse\u001b[39;00m \u001b[38;5;167;01mOSError\u001b[39;00m:\n\u001b[0;32m--> 257\u001b[0m         fid \u001b[38;5;241m=\u001b[39m \u001b[43mh5f\u001b[49m\u001b[38;5;241;43m.\u001b[39;49m\u001b[43mcreate\u001b[49m\u001b[43m(\u001b[49m\u001b[43mname\u001b[49m\u001b[43m,\u001b[49m\u001b[43m \u001b[49m\u001b[43mh5f\u001b[49m\u001b[38;5;241;43m.\u001b[39;49m\u001b[43mACC_EXCL\u001b[49m\u001b[43m,\u001b[49m\u001b[43m \u001b[49m\u001b[43mfapl\u001b[49m\u001b[38;5;241;43m=\u001b[39;49m\u001b[43mfapl\u001b[49m\u001b[43m,\u001b[49m\u001b[43m \u001b[49m\u001b[43mfcpl\u001b[49m\u001b[38;5;241;43m=\u001b[39;49m\u001b[43mfcpl\u001b[49m\u001b[43m)\u001b[49m\n\u001b[1;32m    258\u001b[0m \u001b[38;5;28;01melse\u001b[39;00m:\n\u001b[1;32m    259\u001b[0m     \u001b[38;5;28;01mraise\u001b[39;00m \u001b[38;5;167;01mValueError\u001b[39;00m(\u001b[38;5;124m\"\u001b[39m\u001b[38;5;124mInvalid mode; must be one of r, r+, w, w-, x, a\u001b[39m\u001b[38;5;124m\"\u001b[39m)\n",
      "File \u001b[0;32mh5py/_objects.pyx:54\u001b[0m, in \u001b[0;36mh5py._objects.with_phil.wrapper\u001b[0;34m()\u001b[0m\n",
      "File \u001b[0;32mh5py/_objects.pyx:55\u001b[0m, in \u001b[0;36mh5py._objects.with_phil.wrapper\u001b[0;34m()\u001b[0m\n",
      "File \u001b[0;32mh5py/h5f.pyx:126\u001b[0m, in \u001b[0;36mh5py.h5f.create\u001b[0;34m()\u001b[0m\n",
      "\u001b[0;31mFileNotFoundError\u001b[0m: [Errno 2] Unable to synchronously create file (unable to open file: name = 'output//cdynamic.fem.h5', errno = 2, error message = 'No such file or directory', flags = 15, o_flags = c2)"
     ]
    }
   ],
   "source": [
    "nGusts = 1 # RPN 10\n",
    "Force = []\n",
    "tip_pos= []\n",
    "w0=0.5\n",
    "\n",
    "#Loop through all the angles of attack\n",
    "for jGust in range(nGusts):\n",
    "    gust_length=5 # rPN 2.*chord*float(jGust+1)\n",
    "    SimInfo.solvers['StepUvlm']['velocity_field_input'] = {\n",
    "                                        'u_inf' : Vinf,\n",
    "                                        'u_inf_direction': np.array([1.,0.,0.]),\n",
    "                                        'relative_motion': 'on',\n",
    "                                        'gust_shape': '1-cos',\n",
    "                                        'gust_parameters': {\n",
    "                                                       'gust_length': gust_length,\n",
    "                                                       'gust_intensity':w0}}\n",
    "\n",
    "    gc.clean_test_files(SimInfo.solvers['SHARPy']['route'], SimInfo.solvers['SHARPy']['case'])\n",
    "    airfoil.generate_h5_files(SimInfo.solvers['SHARPy']['route'], SimInfo.solvers['SHARPy']['case'])\n",
    "    SimInfo.generate_solver_file()\n",
    "    SimInfo.generate_dyn_file(time_steps)\n",
    "    sharpy_output = sharpy.sharpy_main.main(['',\n",
    "                                         SimInfo.solvers['SHARPy']['route'] +\n",
    "                                         SimInfo.solvers['SHARPy']['case'] +\n",
    "                                         '.sharpy'])\n",
    "    # post-processing\n",
    "    # load total aerodynamic forces in the inertial frame\n",
    "    aeroforces = np.loadtxt(SimInfo.solvers['SHARPy']['log_folder'] + '/' + SimInfo.solvers['SHARPy']['case'] + '/forces/forces_aeroforces.txt', delimiter=',')\n",
    "    Force_j = 0.5*(aeroforces[1:, 3] + aeroforces[1:, 6]) # steady + unsteady forces in G frame, extra time step is for the steady solution and can be removed\n",
    "    Force.append(Force_j)\n",
    "    \n",
    "    # load the position of the wing tip node\n",
    "    tip_pos_j = np.loadtxt(SimInfo.solvers['SHARPy']['log_folder'] + '/' + SimInfo.solvers['SHARPy']['case'] + f'/WriteVariablesTime/struct_pos_node{num_node:02g}.dat')[:, -1]\n",
    "    tip_pos.append(tip_pos_j)\n",
    "    \n",
    "gc.clean_test_files(SimInfo.solvers['SHARPy']['route'], SimInfo.solvers['SHARPy']['case'])"
   ]
  },
  {
   "cell_type": "code",
   "execution_count": null,
   "metadata": {},
   "outputs": [],
   "source": [
    "# Plot lift coeicient.\n",
    "time = np.linspace(0, dt*(time_steps-1), time_steps-1)\n",
    "\n",
    "fig, plotb = plt.subplots(1,1, figsize=(6, 3))\n",
    "plotb.grid()\n",
    "plotb.set_xlabel(\"s\")\n",
    "plotb.set_ylabel(\"CL\")\n",
    "for jGust in range(nGusts):\n",
    "    plotb.plot(2*time*Vinf/chord, Force[jGust][1:]/(.5*rho*(Vinf*w0)*chord*aspect_ratio*2*np.pi), linestyle='-', c='black')\n",
    "plotb.set(xlim=(0, 50), ylim=(1.5, 1.9))\n",
    "# Ucomment following line to save in figures folder\n",
    "# fig.savefig(\"figures/prismatic-gust-rho1-cl.eps\",  format='eps', dpi=1000, bbox_inches='tight')"
   ]
  },
  {
   "cell_type": "code",
   "execution_count": null,
   "metadata": {},
   "outputs": [],
   "source": [
    "#Plot wing tip displacement\n",
    "fig, plots = plt.subplots(1,1, figsize=(6, 3))\n",
    "plots.grid()\n",
    "plots.set_xlabel(\"s\")\n",
    "plots.set_ylabel(\"u3/b\")\n",
    "for jGust in range(nGusts):\n",
    "    plots.plot(2*time*Vinf/chord, tip_pos[jGust][1:]/(chord*aspect_ratio), linestyle='-', c='black')\n",
    "plots.set(xlim=(0, 50), ylim=(0.3, 0.375))\n",
    "# Uncomment following line to save in figures folder\n",
    "#fig.savefig(\"figures/prismatic-gust-alpha10-tip.eps\",  format='eps', dpi=1000, bbox_inches='tight')"
   ]
  },
  {
   "cell_type": "markdown",
   "metadata": {},
   "source": [
    "For additional posptrocessing of the results, please go to the folder output. The *.h5 files include the input definition of the latest simulaion, folders beam and aero under cdynamic include paraview files, while folders Forces and WriteVariablesTime include selected text output. Check  https://ic-sharpy.readthedocs.io/en/develop/index.html for further details."
   ]
  },
  {
   "cell_type": "code",
   "execution_count": null,
   "metadata": {},
   "outputs": [],
   "source": []
  }
 ],
 "metadata": {
  "kernelspec": {
   "display_name": "Python 3 (ipykernel)",
   "language": "python",
   "name": "python3"
  },
  "language_info": {
   "codemirror_mode": {
    "name": "ipython",
    "version": 3
   },
   "file_extension": ".py",
   "mimetype": "text/x-python",
   "name": "python",
   "nbconvert_exporter": "python",
   "pygments_lexer": "ipython3",
   "version": "3.10.11"
  }
 },
 "nbformat": 4,
 "nbformat_minor": 4
}
