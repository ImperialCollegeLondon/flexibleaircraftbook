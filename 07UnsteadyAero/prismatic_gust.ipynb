{
 "cells": [
  {
   "cell_type": "markdown",
   "metadata": {},
   "source": [
    "# Dynamic response of a prismatic cantilever wing to 1-cos gust. \n",
    "\n",
    "This is an example of the nonlinear dynamic aeroelatics solver in SHARPy. It solves either a rigid or a flexible wing under a 1-cos gust profile.\n",
    "\n",
    "It runs with SHARPy v.1.3 (www.imperial.ac.uk/aeroelastics/sharpy)\n",
    "\n",
    "Latest update: 12.04.2022"
   ]
  },
  {
   "cell_type": "markdown",
   "metadata": {},
   "source": [
    "## Initialization\n",
    "### Required packages\n",
    "Import some python packages, SHARPy and some SHARPy utilities."
   ]
  },
  {
   "cell_type": "code",
   "execution_count": 1,
   "metadata": {},
   "outputs": [],
   "source": [
    "# Loading of the used packages\n",
    "import numpy as np              # basic mathematical and array functions\n",
    "import os                       # Functions related to the operating system\n",
    "import matplotlib.pyplot as plt # Plotting library\n",
    "\n",
    "import sharpy.sharpy_main                  # Run SHARPy inside jupyter notebooks\n",
    "import sharpy.utils.plotutils as pu        # Plotting utilities\n",
    "import sharpy.utils.generate_cases as gc   # Automate model generation.\n",
    "import sharpy.utils.algebra as algebra\n",
    "\n",
    "plt.rcParams.update({'font.size': 20})    # Large fonts in all plots"
   ]
  },
  {
   "cell_type": "markdown",
   "metadata": {},
   "source": [
    "### Initializing simulation environment"
   ]
  },
  {
   "cell_type": "code",
   "execution_count": 2,
   "metadata": {},
   "outputs": [],
   "source": [
    "SimInfo = gc.SimulationInformation() # Initialises the SimulationInformation class\n",
    "SimInfo.set_default_values()         # Assigns the default values to all the solvers"
   ]
  },
  {
   "cell_type": "code",
   "execution_count": 3,
   "metadata": {},
   "outputs": [],
   "source": [
    "SimInfo.solvers['SHARPy']['route'] = './'         # Folder where outputs are written.\n",
    "SimInfo.solvers['SHARPy']['write_screen'] = 'off'"
   ]
  },
  {
   "cell_type": "code",
   "execution_count": 4,
   "metadata": {},
   "outputs": [],
   "source": [
    "airfoil = gc.AeroelasticInformation()  # Initialize aeroelastic model."
   ]
  },
  {
   "cell_type": "markdown",
   "metadata": {},
   "source": [
    "## Problem definition\n",
    "### Wing parameters"
   ]
  },
  {
   "cell_type": "code",
   "execution_count": 5,
   "metadata": {},
   "outputs": [],
   "source": [
    "Rigid=True  # Toggle on/off to select simulation of a rigid or a flexible wing."
   ]
  },
  {
   "cell_type": "code",
   "execution_count": 6,
   "metadata": {},
   "outputs": [],
   "source": [
    "# Geometry\n",
    "chord = 1.         # Chord of the airfoils\n",
    "aspect_ratio = 16. # Ratio between lenght and chord: aspect_ratio = length/chord\n",
    "wake_length = 25   # Length of the wake in chord lengths\n",
    "\n",
    "# Discretization\n",
    "num_node = 21           # Number of nodes in the structural discretisation\n",
    "                        # The number of nodes will also define the aerodynamic panels in the \n",
    "                        # spanwise direction\n",
    "num_chord_panels = 5    # Number of aerodynamic panels in the chordwise direction\n",
    "num_points_camber = 20  # Number of points that define the camber line of the airfoil\n",
    "\n",
    "# Structural properties of the beam cross section\n",
    "mass_per_unit_length = 0.75 # Mass per unit length\n",
    "mass_iner_x = 0.1           # Mass inertia around the local x axis\n",
    "mass_iner_y = 0.001         # Mass inertia around the local y axis\n",
    "mass_iner_z = 0.001         # Mass inertia around the local z axis\n",
    "pos_cg_B = np.zeros((3))    # position of the centre of mass with respect to the elastic axis\n",
    "EA = 1e6                    # Axial stiffness\n",
    "GAy = 1e6                   # Shear stiffness in the local y axis\n",
    "GAz = 1e6                   # Shear stiffness in the local z axis\n",
    "GJ = 1e4                    # Torsional stiffness\n",
    "EIy = 2e4                   # Bending stiffness around the flapwise direction\n",
    "EIz = 5e6                   # Bending stiffness around the edgewise direction\n",
    "\n",
    "# Flight conditions \n",
    "Vinf= 5.                   # Wind speed\n",
    "rho = 1.                   # Density  (default 0.1)\n",
    "beta= 0.*np.pi/180.        # Sideslip in rad\n",
    "aoa_ini = 0.*np.pi/180.    # Angle of incidence of the wing for static and initial for dynamic.\n",
    "\n",
    "# Time discretization\n",
    "dt = chord/num_chord_panels/Vinf # Always keep one timestep per panel"
   ]
  },
  {
   "cell_type": "markdown",
   "metadata": {},
   "source": [
    "### Structural model\n",
    "Send inputs to model generation function to produce a finite-element model of the wing."
   ]
  },
  {
   "cell_type": "code",
   "execution_count": 7,
   "metadata": {},
   "outputs": [],
   "source": [
    "# Define the number of nodes and the number of nodes per element\n",
    "airfoil.StructuralInformation.num_node = num_node\n",
    "airfoil.StructuralInformation.num_node_elem = 3\n",
    "# Compute the number of elements assuming basic connections\n",
    "airfoil.StructuralInformation.compute_basic_num_elem()\n",
    "\n",
    "# Generate an array with the location of the nodes\n",
    "node_r = np.zeros((num_node, 3))\n",
    "node_r[:,1] = np.linspace(0, chord*aspect_ratio, num_node)"
   ]
  },
  {
   "cell_type": "code",
   "execution_count": 8,
   "metadata": {},
   "outputs": [],
   "source": [
    "airfoil.StructuralInformation.generate_uniform_beam(node_r,\n",
    "                    mass_per_unit_length,\n",
    "                    mass_iner_x, mass_iner_y, mass_iner_z,\n",
    "                    pos_cg_B,\n",
    "                    EA, GAy, GAz,\n",
    "                    GJ, EIy, EIz,\n",
    "                    num_node_elem = airfoil.StructuralInformation.num_node_elem,\n",
    "                    y_BFoR = 'x_AFoR',\n",
    "                    num_lumped_mass=0)\n",
    "airfoil.StructuralInformation.frame_of_reference_delta *= -1"
   ]
  },
  {
   "cell_type": "markdown",
   "metadata": {},
   "source": [
    "Define structural simulation parameters."
   ]
  },
  {
   "cell_type": "code",
   "execution_count": 9,
   "metadata": {},
   "outputs": [],
   "source": [
    "SimInfo.solvers['BeamLoader']['unsteady'] = 'on'\n",
    "SimInfo.solvers['BeamLoader']['orientation'] = algebra.euler2quat(np.array([0.0,\n",
    "                                                   aoa_ini,\n",
    "                                                   beta]))"
   ]
  },
  {
   "cell_type": "markdown",
   "metadata": {},
   "source": [
    "### Aerodynamic model\n",
    "Send inputs to model generation function to produce a vortex-lattice model of the wing."
   ]
  },
  {
   "cell_type": "code",
   "execution_count": 10,
   "metadata": {},
   "outputs": [],
   "source": [
    "# Compute the number of panels in the wake (streamwise direction) based on the previous paramete\n",
    "wake_panels = int(wake_length*chord/dt)\n",
    "\n",
    "# Define the coordinates of the camber line of the airfoils used. Here it is a flat plate.\n",
    "airfoil_camber = np.zeros((1, num_points_camber, 2))\n",
    "airfoil_camber[0, :, 0] = np.linspace(0, 1, num_points_camber)\n",
    "\n",
    "# Generate aerodynamic model\n",
    "airfoil.AerodynamicInformation.create_one_uniform_aerodynamics (\n",
    "                                 airfoil.StructuralInformation,\n",
    "                                 chord = chord,\n",
    "                                 twist = 0.,\n",
    "                                 sweep = 0.,\n",
    "                                 num_chord_panels = num_chord_panels,\n",
    "                                 m_distribution = 'uniform',\n",
    "                                 elastic_axis = 0.5,\n",
    "                                 num_points_camber = num_points_camber,\n",
    "                                 airfoil = airfoil_camber)"
   ]
  },
  {
   "cell_type": "code",
   "execution_count": 11,
   "metadata": {},
   "outputs": [
    {
     "name": "stdout",
     "output_type": "stream",
     "text": [
      "\u001b[33mWARNING: Replacing node 41 by node 0\u001b[0m\n"
     ]
    }
   ],
   "source": [
    "# Duplicate the wing to create a symmetric system\n",
    "airfoil2 = airfoil.copy()\n",
    "airfoil2.StructuralInformation.coordinates -= airfoil.StructuralInformation.coordinates[-1, :]\n",
    "airfoil.assembly(airfoil2)\n",
    "airfoil.remove_duplicated_points(1e-9)\n",
    "\n",
    "#Define cantilever boundary conditions\n",
    "airfoil.StructuralInformation.boundary_conditions[0] = 1 # Clamped\n",
    "airfoil.StructuralInformation.boundary_conditions[num_node//2] = -1 # Free end\n",
    "airfoil.StructuralInformation.boundary_conditions[num_node//2 + 1] = -1 # Free end"
   ]
  },
  {
   "cell_type": "markdown",
   "metadata": {},
   "source": [
    "Define aerodynamic simulation parameters"
   ]
  },
  {
   "cell_type": "code",
   "execution_count": 12,
   "metadata": {},
   "outputs": [],
   "source": [
    "SimInfo.solvers['AerogridLoader']['unsteady'] = 'on'\n",
    "SimInfo.solvers['AerogridLoader']['aligned_grid'] = 'on'\n",
    "SimInfo.solvers['AerogridLoader']['mstar'] = wake_panels\n",
    "SimInfo.solvers['AerogridLoader']['freestream_dir'] = np.array([1.,0.,0.])\n",
    "SimInfo.solvers['AerogridLoader']['wake_shape_generator'] = 'StraightWake'\n",
    "SimInfo.solvers['AerogridLoader']['wake_shape_generator_input'] = {'u_inf': Vinf,\n",
    "                                                                   'u_inf_direction' : np.array([1.,0.,0.]),\n",
    "                                                                   'dt' : dt}"
   ]
  },
  {
   "cell_type": "markdown",
   "metadata": {},
   "source": [
    "### Define static simulation"
   ]
  },
  {
   "cell_type": "code",
   "execution_count": 13,
   "metadata": {},
   "outputs": [],
   "source": [
    "# Define the simulation\n",
    "SimInfo.solvers['SHARPy']['flow'] = ['BeamLoader',\n",
    "                                     'AerogridLoader',\n",
    "                                     'StaticCoupled',\n",
    "                                     'BeamPlot',\n",
    "                                     'AerogridPlot']\n",
    "\n",
    "SimInfo.set_variable_all_dicts('rho', rho)\n",
    "\n",
    "SimInfo.solvers['SHARPy']['case'] = 'case_static'\n",
    "SimInfo.solvers['SHARPy']['write_screen'] = 'off'\n",
    "\n",
    "SimInfo.solvers['StaticUvlm']['horseshoe'] = False    # Use finite wake as in the dynamic problems.\n",
    "SimInfo.solvers['StaticUvlm']['n_rollup'] = 0\n",
    "SimInfo.solvers['StaticUvlm']['velocity_field_generator'] = 'SteadyVelocityField'\n",
    "SimInfo.solvers['StaticUvlm']['velocity_field_input'] = {\n",
    "                                             'u_inf' : Vinf,\n",
    "                                             'u_inf_direction' : np.array([1.,0.,0.])}\n",
    "#                                             'u_inf_direction' : np.array(\n",
    "#                                                      [np.cos(aoa_ini),\n",
    "#                                                       0.,\n",
    "#                                                       np.sin(aoa_ini)])}\n",
    "\n",
    "SimInfo.solvers['NonLinearStatic']['gravity_on'] = False   # Remove gravitational effects.\n",
    "SimInfo.solvers['NonLinearStatic']['max_iterations'] =150\n",
    "SimInfo.solvers['NonLinearStatic']['num_load_steps'] =1\n",
    "SimInfo.solvers['NonLinearStatic']['min_delta'] =1e-6\n",
    "SimInfo.solvers['NonLinearStatic']['gravity'] =9.754\n",
    "    \n",
    "if Rigid:\n",
    "    SimInfo.solvers['StaticCoupled']['structural_solver'] = 'RigidDynamicPrescribedStep'\n",
    "    SimInfo.solvers['StaticCoupled']['structural_solver_settings'] = SimInfo.solvers['RigidDynamicPrescribedStep']\n",
    "else:\n",
    "    SimInfo.solvers['StaticCoupled']['structural_solver'] = 'NonLinearStatic'\n",
    "    SimInfo.solvers['StaticCoupled']['structural_solver_settings'] = SimInfo.solvers['NonLinearStatic']\n",
    "SimInfo.solvers['StaticCoupled']['aero_solver'] = 'StaticUvlm'\n",
    "SimInfo.solvers['StaticCoupled']['aero_solver_settings'] = SimInfo.solvers['StaticUvlm']\n",
    "SimInfo.solvers['StaticCoupled']['n_load_steps'] = 0\n",
    "SimInfo.solvers['StaticCoupled']['relaxation_factor'] = 0.0\n",
    "\n",
    "SimInfo.solvers['StaticUvlm']['rollup_dt'] = dt\n",
    "SimInfo.solvers['StaticCoupled']['tolerance'] = 1.e-6\n",
    "SimInfo.solvers['StaticCoupled']['max_iter'] = 50"
   ]
  },
  {
   "cell_type": "markdown",
   "metadata": {},
   "source": [
    "### Define dynamic simulation"
   ]
  },
  {
   "cell_type": "code",
   "execution_count": 14,
   "metadata": {},
   "outputs": [],
   "source": [
    "SimInfo.solvers['SHARPy']['flow'] = [\n",
    "                        'BeamLoader',\n",
    "                        'AerogridLoader',\n",
    "                        'StaticCoupled',\n",
    "                        'DynamicCoupled']\n",
    "SimInfo.solvers['SHARPy']['case'] = 'cdynamic'"
   ]
  },
  {
   "cell_type": "code",
   "execution_count": 15,
   "metadata": {},
   "outputs": [],
   "source": [
    "aoa_end=0.0*np.pi/180.0\n",
    "end_time=5.0\n",
    "time_steps = int(end_time/dt)\n",
    "\n",
    "SimInfo.set_variable_all_dicts('dt', dt)\n",
    "SimInfo.define_num_steps(time_steps)"
   ]
  },
  {
   "cell_type": "code",
   "execution_count": 16,
   "metadata": {},
   "outputs": [],
   "source": [
    "SimInfo.solvers['StepUvlm']['convection_scheme'] = 2  \n",
    "SimInfo.solvers['StepUvlm']['velocity_field_generator'] = 'GustVelocityField'\n",
    "\n",
    "SimInfo.solvers['NonLinearDynamicPrescribedStep']['gravity_on'] = False\n",
    "\n",
    "if Rigid:\n",
    "    SimInfo.solvers['DynamicCoupled']['structural_solver'] = 'RigidDynamicPrescribedStep'\n",
    "    SimInfo.solvers['DynamicCoupled']['structural_solver_settings'] = SimInfo.solvers['RigidDynamicPrescribedStep']\n",
    "else:\n",
    "    SimInfo.solvers['DynamicCoupled']['structural_solver'] = 'NonLinearDynamicPrescribedStep'\n",
    "    SimInfo.solvers['DynamicCoupled']['structural_solver_settings'] = SimInfo.solvers['NonLinearDynamicPrescribedStep']\n",
    "SimInfo.solvers['DynamicCoupled']['aero_solver'] = 'StepUvlm'\n",
    "SimInfo.solvers['DynamicCoupled']['aero_solver_settings'] = SimInfo.solvers['StepUvlm']\n",
    "SimInfo.solvers['DynamicCoupled']['postprocessors'] = ['BeamPlot', 'AerogridPlot']\n",
    "SimInfo.solvers['DynamicCoupled']['postprocessors_settings'] = {\n",
    "                          'BeamPlot': SimInfo.solvers['BeamPlot'],\n",
    "                          'AerogridPlot': SimInfo.solvers['AerogridPlot']}\n",
    "SimInfo.solvers['DynamicCoupled']['include_unsteady_force_contribution'] = True"
   ]
  },
  {
   "cell_type": "code",
   "execution_count": 17,
   "metadata": {},
   "outputs": [],
   "source": [
    "nGusts = 1\n",
    "Force = np.zeros((time_steps,nGusts))\n",
    "tip_pos=np.zeros((time_steps,nGusts))\n",
    "w0=0.5\n",
    "\n",
    "#Loop through all the angles of attack\n",
    "for jGust in range(nGusts):\n",
    "    gust_length=2.*chord*float(jGust+1)\n",
    "    SimInfo.solvers['StepUvlm']['velocity_field_input'] = {\n",
    "                                        'u_inf' : Vinf,\n",
    "                                        'u_inf_direction': np.array([1.,0.,0.]),\n",
    "                                        'gust_shape': '1-cos',\n",
    "                                        'gust_parameters': {\n",
    "                                                       'gust_length': gust_length,\n",
    "                                                       'gust_intensity':w0}}\n",
    "\n",
    "    gc.clean_test_files(SimInfo.solvers['SHARPy']['route'], SimInfo.solvers['SHARPy']['case'])\n",
    "    airfoil.generate_h5_files(SimInfo.solvers['SHARPy']['route'], SimInfo.solvers['SHARPy']['case'])\n",
    "    SimInfo.generate_solver_file()\n",
    "    SimInfo.generate_dyn_file(time_steps)\n",
    "    sharpy_output = sharpy.sharpy_main.main(['',\n",
    "                                         SimInfo.solvers['SHARPy']['route'] +\n",
    "                                         SimInfo.solvers['SHARPy']['case'] +\n",
    "                                         '.sharpy'])\n",
    "    for it in range(time_steps):\n",
    "        Force  [it,jGust] = sharpy_output.aero.beam.timestep_info[it].total_forces[2]/2\n",
    "        tip_pos[it,jGust] = sharpy_output.structure.timestep_info[it].pos[num_node, 2]\n",
    "\n",
    "gc.clean_test_files(SimInfo.solvers['SHARPy']['route'], SimInfo.solvers['SHARPy']['case'])"
   ]
  },
  {
   "cell_type": "code",
   "execution_count": 20,
   "metadata": {},
   "outputs": [
    {
     "data": {
      "image/png": "[encoded data removed]",
      "text/plain": [
       "<Figure size 432x216 with 1 Axes>"
      ]
     },
     "metadata": {
      "needs_background": "light"
     },
     "output_type": "display_data"
    }
   ],
   "source": [
    "time = np.linspace(0, dt*time_steps, time_steps)\n",
    "\n",
    "fig, plotb = plt.subplots(1,1, figsize=(6, 3))\n",
    "plotb.grid()\n",
    "plotb.set_xlabel(\"s\")\n",
    "plotb.set_ylabel(\"CL\")\n",
    "plotb.plot(2*time*Vinf/chord, Force/(.5*rho*(Vinf*w0)*chord*aspect_ratio*2*np.pi), linestyle='-', c='black')\n",
    "plotb.set(xlim=(0, 50), ylim=(0., 1))\n",
    "#plt.show()\n",
    "fig.savefig(\"prismatic-gust-rho1-cl.eps\",  format='eps', dpi=1000, bbox_inches='tight')"
   ]
  },
  {
   "cell_type": "code",
   "execution_count": 22,
   "metadata": {},
   "outputs": [
    {
     "data": {
      "image/png": "[encoded data removed]",
      "text/plain": [
       "<Figure size 432x216 with 1 Axes>"
      ]
     },
     "metadata": {
      "needs_background": "light"
     },
     "output_type": "display_data"
    }
   ],
   "source": [
    "fig, plots = plt.subplots(1,1, figsize=(6, 3))\n",
    "plots.grid()\n",
    "plots.set_xlabel(\"s\")\n",
    "plots.set_ylabel(\"u3/b\")\n",
    "plots.plot(2*time*Vinf/chord, tip_pos/(chord*aspect_ratio), linestyle='-', c='black')\n",
    "plots.set(xlim=(0, 50), ylim=(0.0, 0.38))\n",
    "fig.savefig(\"prismatic-gust-alpha10-tip.eps\",  format='eps', dpi=1000, bbox_inches='tight')"
   ]
  },
  {
   "cell_type": "code",
   "execution_count": 25,
   "metadata": {},
   "outputs": [
    {
     "data": {
      "text/plain": [
       "0.0"
      ]
     },
     "execution_count": 25,
     "metadata": {},
     "output_type": "execute_result"
    }
   ],
   "source": [
    "np.amin(tip_pos)"
   ]
  },
  {
   "cell_type": "code",
   "execution_count": null,
   "metadata": {},
   "outputs": [],
   "source": []
  }
 ],
 "metadata": {
  "kernelspec": {
   "display_name": "Python 3",
   "language": "python",
   "name": "python3"
  },
  "language_info": {
   "codemirror_mode": {
    "name": "ipython",
    "version": 3
   },
   "file_extension": ".py",
   "mimetype": "text/x-python",
   "name": "python",
   "nbconvert_exporter": "python",
   "pygments_lexer": "ipython3",
   "version": "3.7.5"
  }
 },
 "nbformat": 4,
 "nbformat_minor": 4
}
