{
 "cells": [
  {
   "cell_type": "markdown",
   "metadata": {},
   "source": [
    "# Linear normal modes in the vibrations of a prismatic cantilever beam\n",
    "\n",
    "This is an example of the modal structural solver in SHARPy.\n",
    "\n",
    "It runs with SHARPy v.1.3 (www.imperial.ac.uk/aeroelastics/sharpy)\n",
    "\n",
    "Latest update: 10.04.2022"
   ]
  },
  {
   "cell_type": "markdown",
   "metadata": {},
   "source": [
    "## Required Packages"
   ]
  },
  {
   "cell_type": "code",
   "execution_count": 1,
   "metadata": {},
   "outputs": [],
   "source": [
    "import numpy as np\n",
    "import os\n",
    "import matplotlib.pyplot as plt\n",
    "import sharpy.sharpy_main           # to run SHARPy from Jupyter\n",
    "import cantilever.model as model    # model definition\n",
    "from IPython.display import Image   # to import images.\n",
    "\n",
    "plt.rcParams.update({'font.size': 20})   # Large fonts in all plots"
   ]
  },
  {
   "cell_type": "code",
   "execution_count": 2,
   "metadata": {},
   "outputs": [
    {
     "ename": "Exception",
     "evalue": "[NotRecognisedSetting('Unrecognised setting folder. Please check input file and/or documentation')]",
     "output_type": "error",
     "traceback": [
      "\u001b[0;31m---------------------------------------------------------------------------\u001b[0m",
      "\u001b[0;31mException\u001b[0m                                 Traceback (most recent call last)",
      "\u001b[0;32m<ipython-input-2-c584d846cf6e>\u001b[0m in \u001b[0;36m<module>\u001b[0;34m\u001b[0m\n\u001b[1;32m     20\u001b[0m     \u001b[0mmodel\u001b[0m\u001b[0;34m.\u001b[0m\u001b[0mgenerate_solver_file\u001b[0m\u001b[0;34m(\u001b[0m\u001b[0mroute\u001b[0m\u001b[0;34m,\u001b[0m \u001b[0mcase_name\u001b[0m\u001b[0;34m,\u001b[0m \u001b[0;34m[\u001b[0m\u001b[0;34m'BeamLoader'\u001b[0m\u001b[0;34m,\u001b[0m \u001b[0;34m'NonLinearStatic'\u001b[0m\u001b[0;34m,\u001b[0m \u001b[0;34m'Modal'\u001b[0m\u001b[0;34m]\u001b[0m\u001b[0;34m,\u001b[0m \u001b[0mgravity\u001b[0m\u001b[0;34m=\u001b[0m\u001b[0;36m0.\u001b[0m\u001b[0;34m)\u001b[0m\u001b[0;34m\u001b[0m\u001b[0;34m\u001b[0m\u001b[0m\n\u001b[1;32m     21\u001b[0m \u001b[0;34m\u001b[0m\u001b[0m\n\u001b[0;32m---> 22\u001b[0;31m     \u001b[0mcase_data\u001b[0m\u001b[0;34m=\u001b[0m\u001b[0msharpy\u001b[0m\u001b[0;34m.\u001b[0m\u001b[0msharpy_main\u001b[0m\u001b[0;34m.\u001b[0m\u001b[0mmain\u001b[0m\u001b[0;34m(\u001b[0m\u001b[0;34m[\u001b[0m\u001b[0;34m''\u001b[0m\u001b[0;34m,\u001b[0m \u001b[0mroute\u001b[0m \u001b[0;34m+\u001b[0m \u001b[0mcase_name\u001b[0m \u001b[0;34m+\u001b[0m \u001b[0;34m'.sharpy'\u001b[0m\u001b[0;34m]\u001b[0m\u001b[0;34m)\u001b[0m\u001b[0;34m\u001b[0m\u001b[0;34m\u001b[0m\u001b[0m\n\u001b[0m\u001b[1;32m     23\u001b[0m \u001b[0;34m\u001b[0m\u001b[0m\n\u001b[1;32m     24\u001b[0m     \u001b[0mx1\u001b[0m\u001b[0;34m[\u001b[0m\u001b[0mjForce\u001b[0m\u001b[0;34m,\u001b[0m\u001b[0;36m0\u001b[0m\u001b[0;34m:\u001b[0m\u001b[0mN\u001b[0m\u001b[0;34m]\u001b[0m\u001b[0;34m=\u001b[0m\u001b[0mcase_data\u001b[0m\u001b[0;34m.\u001b[0m\u001b[0mstructure\u001b[0m\u001b[0;34m.\u001b[0m\u001b[0mtimestep_info\u001b[0m\u001b[0;34m[\u001b[0m\u001b[0;36m0\u001b[0m\u001b[0;34m]\u001b[0m\u001b[0;34m.\u001b[0m\u001b[0mpos\u001b[0m\u001b[0;34m[\u001b[0m\u001b[0;34m:\u001b[0m\u001b[0;34m,\u001b[0m \u001b[0;36m0\u001b[0m\u001b[0;34m]\u001b[0m\u001b[0;34m\u001b[0m\u001b[0;34m\u001b[0m\u001b[0m\n",
      "\u001b[0;32m~/sharpy/sharpy/sharpy_main.py\u001b[0m in \u001b[0;36mmain\u001b[0;34m(args, sharpy_input_dict)\u001b[0m\n\u001b[1;32m    135\u001b[0m         \u001b[0mlogging\u001b[0m\u001b[0;34m.\u001b[0m\u001b[0minfo\u001b[0m\u001b[0;34m(\u001b[0m\u001b[0;34m'SHARPy Error Log'\u001b[0m\u001b[0;34m)\u001b[0m\u001b[0;34m\u001b[0m\u001b[0;34m\u001b[0m\u001b[0m\n\u001b[1;32m    136\u001b[0m         \u001b[0mlogging\u001b[0m\u001b[0;34m.\u001b[0m\u001b[0merror\u001b[0m\u001b[0;34m(\u001b[0m\u001b[0;34m\"Exception occurred\"\u001b[0m\u001b[0;34m,\u001b[0m \u001b[0mexc_info\u001b[0m\u001b[0;34m=\u001b[0m\u001b[0;32mTrue\u001b[0m\u001b[0;34m)\u001b[0m\u001b[0;34m\u001b[0m\u001b[0;34m\u001b[0m\u001b[0m\n\u001b[0;32m--> 137\u001b[0;31m         \u001b[0;32mraise\u001b[0m \u001b[0me\u001b[0m\u001b[0;34m\u001b[0m\u001b[0;34m\u001b[0m\u001b[0m\n\u001b[0m\u001b[1;32m    138\u001b[0m \u001b[0;34m\u001b[0m\u001b[0m\n\u001b[1;32m    139\u001b[0m     \u001b[0;32mreturn\u001b[0m \u001b[0mdata\u001b[0m\u001b[0;34m\u001b[0m\u001b[0;34m\u001b[0m\u001b[0m\n",
      "\u001b[0;32m~/sharpy/sharpy/sharpy_main.py\u001b[0m in \u001b[0;36mmain\u001b[0;34m(args, sharpy_input_dict)\u001b[0m\n\u001b[1;32m    110\u001b[0m         \u001b[0;32mfor\u001b[0m \u001b[0msolver_name\u001b[0m \u001b[0;32min\u001b[0m \u001b[0msettings\u001b[0m\u001b[0;34m[\u001b[0m\u001b[0;34m'SHARPy'\u001b[0m\u001b[0;34m]\u001b[0m\u001b[0;34m[\u001b[0m\u001b[0;34m'flow'\u001b[0m\u001b[0;34m]\u001b[0m\u001b[0;34m:\u001b[0m\u001b[0;34m\u001b[0m\u001b[0;34m\u001b[0m\u001b[0m\n\u001b[1;32m    111\u001b[0m             \u001b[0msolver\u001b[0m \u001b[0;34m=\u001b[0m \u001b[0msolver_interface\u001b[0m\u001b[0;34m.\u001b[0m\u001b[0minitialise_solver\u001b[0m\u001b[0;34m(\u001b[0m\u001b[0msolver_name\u001b[0m\u001b[0;34m)\u001b[0m\u001b[0;34m\u001b[0m\u001b[0;34m\u001b[0m\u001b[0m\n\u001b[0;32m--> 112\u001b[0;31m             \u001b[0msolver\u001b[0m\u001b[0;34m.\u001b[0m\u001b[0minitialise\u001b[0m\u001b[0;34m(\u001b[0m\u001b[0mdata\u001b[0m\u001b[0;34m)\u001b[0m\u001b[0;34m\u001b[0m\u001b[0;34m\u001b[0m\u001b[0m\n\u001b[0m\u001b[1;32m    113\u001b[0m             \u001b[0mdata\u001b[0m \u001b[0;34m=\u001b[0m \u001b[0msolver\u001b[0m\u001b[0;34m.\u001b[0m\u001b[0mrun\u001b[0m\u001b[0;34m(\u001b[0m\u001b[0;34m)\u001b[0m\u001b[0;34m\u001b[0m\u001b[0;34m\u001b[0m\u001b[0m\n\u001b[1;32m    114\u001b[0m \u001b[0;34m\u001b[0m\u001b[0m\n",
      "\u001b[0;32m~/sharpy/sharpy/solvers/modal.py\u001b[0m in \u001b[0;36minitialise\u001b[0;34m(self, data, custom_settings)\u001b[0m\n\u001b[1;32m    117\u001b[0m         settings.to_custom_types(self.settings,\n\u001b[1;32m    118\u001b[0m                                  \u001b[0mself\u001b[0m\u001b[0;34m.\u001b[0m\u001b[0msettings_types\u001b[0m\u001b[0;34m,\u001b[0m\u001b[0;34m\u001b[0m\u001b[0;34m\u001b[0m\u001b[0m\n\u001b[0;32m--> 119\u001b[0;31m                                  self.settings_default)\n\u001b[0m\u001b[1;32m    120\u001b[0m \u001b[0;34m\u001b[0m\u001b[0m\n\u001b[1;32m    121\u001b[0m         \u001b[0mself\u001b[0m\u001b[0;34m.\u001b[0m\u001b[0mrigid_body_motion\u001b[0m \u001b[0;34m=\u001b[0m \u001b[0mself\u001b[0m\u001b[0;34m.\u001b[0m\u001b[0msettings\u001b[0m\u001b[0;34m[\u001b[0m\u001b[0;34m'rigid_body_modes'\u001b[0m\u001b[0;34m]\u001b[0m\u001b[0;34m\u001b[0m\u001b[0;34m\u001b[0m\u001b[0m\n",
      "\u001b[0;32m~/sharpy/sharpy/utils/settings.py\u001b[0m in \u001b[0;36mto_custom_types\u001b[0;34m(dictionary, types, default, options, no_ctype)\u001b[0m\n\u001b[1;32m    206\u001b[0m \u001b[0;34m\u001b[0m\u001b[0m\n\u001b[1;32m    207\u001b[0m     \u001b[0;32mif\u001b[0m \u001b[0munrecognised_settings\u001b[0m\u001b[0;34m:\u001b[0m\u001b[0;34m\u001b[0m\u001b[0;34m\u001b[0m\u001b[0m\n\u001b[0;32m--> 208\u001b[0;31m         \u001b[0;32mraise\u001b[0m \u001b[0mException\u001b[0m\u001b[0;34m(\u001b[0m\u001b[0munrecognised_settings\u001b[0m\u001b[0;34m)\u001b[0m\u001b[0;34m\u001b[0m\u001b[0;34m\u001b[0m\u001b[0m\n\u001b[0m\u001b[1;32m    209\u001b[0m \u001b[0;34m\u001b[0m\u001b[0m\n\u001b[1;32m    210\u001b[0m \u001b[0;34m\u001b[0m\u001b[0m\n",
      "\u001b[0;31mException\u001b[0m: [NotRecognisedSetting('Unrecognised setting folder. Please check input file and/or documentation')]"
     ]
    }
   ],
   "source": [
    "# Define temporary files to generate sharpy models.\n",
    "case_name= 'temp'\n",
    "route = 'cantilever/'\n",
    "\n",
    "# Define values of the tip forces up to P=Nforces*DeltaForce\n",
    "Nforces=25        # Number of force steps(25)\n",
    "DeltaForce=50e3   # Increment of forces\n",
    "\n",
    "Nelem=40           # Number of beam elements\n",
    "N=2*Nelem+1        # Number of grid nodes\n",
    "\n",
    "x1=np.zeros((Nforces,N))\n",
    "z1=np.zeros((Nforces,N))\n",
    "freqs=np.zeros((Nforces,10))\n",
    "\n",
    "for jForce in range(Nforces):\n",
    "    model.clean_test_files(route, case_name)\n",
    "    model.generate_fem_file(route, case_name, Nelem, deadforce=0,\n",
    "                            followerforce=float(jForce)*DeltaForce, massless=False)\n",
    "    model.generate_solver_file(route, case_name, ['BeamLoader', 'NonLinearStatic', 'Modal'], gravity=0.)\n",
    "\n",
    "    case_data=sharpy.sharpy_main.main(['', route + case_name + '.sharpy'])\n",
    "\n",
    "    x1[jForce,0:N]=case_data.structure.timestep_info[0].pos[:, 0]\n",
    "    z1[jForce,0:N]=case_data.structure.timestep_info[0].pos[:, 2]\n",
    "\n",
    "    freqs[jForce,0:10]=case_data.structure.timestep_info[0].modal['freq_natural']/2/np.pi  # Freqs in Hz.\n",
    "\n",
    "# Store initial geometry\n",
    "x0=case_data.structure.ini_info.pos[:, 0]\n",
    "z0=case_data.structure.ini_info.pos[:, 2]"
   ]
  },
  {
   "cell_type": "code",
   "execution_count": null,
   "metadata": {},
   "outputs": [],
   "source": [
    "case_data.structure.timestep_info[0].psi[-1,-1]"
   ]
  },
  {
   "cell_type": "code",
   "execution_count": null,
   "metadata": {},
   "outputs": [],
   "source": [
    "# Plot the deformed beam shapes\n",
    "fig= plt.subplots(1, 1, figsize=(9, 6))\n",
    "plt.plot(x0,z0,c='black')\n",
    "\n",
    "for jForce in range(1,Nforces,2):\n",
    "    #plt.scatter(x1[jForce,0:N],z1[jForce,0:N],c='black')\n",
    "    plt.plot(x1[jForce,0:N],z1[jForce,0:N],c='black')\n",
    "\n",
    "plt.axis('equal')\n",
    "plt.grid()\n",
    "plt.xlabel('x (m)')\n",
    "plt.ylabel('z (m)')\n",
    "plt.savefig(\"images/ncb1-foll-nograv.eps\",  format='eps', dpi=1000, bbox_inches='tight')"
   ]
  },
  {
   "cell_type": "code",
   "execution_count": null,
   "metadata": {},
   "outputs": [],
   "source": [
    "## Plot natural frequencies\n",
    "fig= plt.subplots(1, 1, figsize=(9, 6))\n",
    "\n",
    "Style=['-','--',':','-','--',':']\n",
    "for jForce in range(Nforces):\n",
    "    for jMode in range(6):\n",
    "        #plt.scatter(np.arange(0,Nforces*DeltaForce/1e3,DeltaForce/1e3), freqs[0:Nforces,jMode],linestyle='-', c='black')\n",
    "        plt.plot   (np.arange(0,Nforces*DeltaForce/1e3,DeltaForce/1e3), freqs[0:Nforces,jMode],Style[jMode], c='black')\n",
    "plt.xlabel('Force (kN)')\n",
    "plt.ylabel('Natural frequency (Hz)')\n",
    "plt.axis([0,1200,0,50])\n",
    "plt.legend(['Bending x-z','Bending x-y','Torsion'])\n",
    "plt.grid()\n",
    "plt.savefig(\"images/ncb1-foll-freqs.eps\",  format='eps', dpi=1000, bbox_inches='tight')"
   ]
  },
  {
   "cell_type": "code",
   "execution_count": null,
   "metadata": {},
   "outputs": [],
   "source": [
    "model.clean_test_files(route, case_name)"
   ]
  }
 ],
 "metadata": {
  "kernelspec": {
   "display_name": "Python 3",
   "language": "python",
   "name": "python3"
  },
  "language_info": {
   "codemirror_mode": {
    "name": "ipython",
    "version": 3
   },
   "file_extension": ".py",
   "mimetype": "text/x-python",
   "name": "python",
   "nbconvert_exporter": "python",
   "pygments_lexer": "ipython3",
   "version": "3.7.5"
  }
 },
 "nbformat": 4,
 "nbformat_minor": 4
}
