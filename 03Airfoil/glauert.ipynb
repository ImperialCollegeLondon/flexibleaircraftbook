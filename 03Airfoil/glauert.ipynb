{
 "cells": [
  {
   "cell_type": "markdown",
   "metadata": {},
   "source": [
    "This python notebook derives the analytical expressions for an airfoil with pitch-plunge-flap degrees of freedom (Section 3.3 of Palacios & Cesnik's book)\n",
    "\n",
    "\n",
    "*Set up environment*"
   ]
  },
  {
   "cell_type": "code",
   "execution_count": 136,
   "metadata": {},
   "outputs": [],
   "source": [
    "import sympy as sym\n",
    "import warnings\n",
    "\n",
    "sym.init_printing(use_unicode=False,wrap_line=False)\n",
    "warnings.filterwarnings(\"ignore\")"
   ]
  },
  {
   "cell_type": "markdown",
   "metadata": {},
   "source": [
    "Upwash due to pitch angle (wa) and to flap angle (wd)"
   ]
  },
  {
   "cell_type": "code",
   "execution_count": 137,
   "metadata": {},
   "outputs": [],
   "source": [
    "a0,a1,d0,d1=sym.symbols('alpha_0, alpha_1, delta_0, delta_1')              # Primary variables (pitch, pitch rate, flap, flap rate)\n",
    "th =sym.symbols('theta', real = True)                                      # Glauert's variable and its value at the flap hinge\n",
    "nuea,thfh = sym.symbols('nu_ea, theta_fh', real = True, constant = True)   # Non-dimensional distance from mid-chord of elastic axis and flap hinge\n",
    "nufh=-sym.cos(thfh)\n",
    "\n",
    "wa=a0-a1*(sym.cos(th)+nuea)\n",
    "wd=d0-d1*(sym.cos(th)+nufh)"
   ]
  },
  {
   "cell_type": "markdown",
   "metadata": {},
   "source": [
    "Obtain the coefficients of the Fourier expansion (Glauert expansion), Eq. (3.38)"
   ]
  },
  {
   "cell_type": "code",
   "execution_count": 138,
   "metadata": {},
   "outputs": [],
   "source": [
    "A_0 = (1/sym.pi)*(sym.integrate(wa,               (th,0,sym.pi)) + sym.integrate(wd,               (th,thfh,sym.pi)))\n",
    "A_1 = (1/sym.pi)*(sym.integrate(wa*sym.cos(th),   (th,0,sym.pi)) + sym.integrate(wd*sym.cos(th),   (th,thfh,sym.pi)))\n",
    "A_2 = (1/sym.pi)*(sym.integrate(wa*sym.cos(2*th), (th,0,sym.pi)) + sym.integrate(wd*sym.cos(2*th), (th,thfh,sym.pi)))\n",
    "A_3 = (1/sym.pi)*(sym.integrate(wa*sym.cos(3*th), (th,0,sym.pi)) + sym.integrate(wd*sym.cos(3*th), (th,thfh,sym.pi)))"
   ]
  },
  {
   "cell_type": "markdown",
   "metadata": {},
   "source": [
    "Quasi-steady lift and moment coefficient, Eq. (3.39)"
   ]
  },
  {
   "cell_type": "code",
   "execution_count": 139,
   "metadata": {},
   "outputs": [],
   "source": [
    "c_l0=2*sym.pi*(A_0-A_1)\n",
    "c_m0=sym.pi/2*(A_1-A_2)"
   ]
  },
  {
   "cell_type": "code",
   "execution_count": 140,
   "metadata": {},
   "outputs": [
    {
     "data": {
      "image/png": "[encoded data removed]",
      "text/latex": [
       "$\\displaystyle 2 \\pi$"
      ],
      "text/plain": [
       "2*pi"
      ]
     },
     "metadata": {},
     "output_type": "display_data"
    },
    {
     "data": {
      "image/png": "[encoded data removed]",
      "text/latex": [
       "$\\displaystyle 2 \\pi \\left(\\frac{1}{2} - \\nu_{ea}\\right)$"
      ],
      "text/plain": [
       "2*pi*(1/2 - nu_ea)"
      ]
     },
     "metadata": {},
     "output_type": "display_data"
    },
    {
     "data": {
      "image/png": "[encoded data removed]",
      "text/latex": [
       "$\\displaystyle 0$"
      ],
      "text/plain": [
       "0"
      ]
     },
     "metadata": {},
     "output_type": "display_data"
    },
    {
     "data": {
      "image/png": "[encoded data removed]",
      "text/latex": [
       "$\\displaystyle - \\frac{\\pi}{4}$"
      ],
      "text/plain": [
       "-pi \n",
       "----\n",
       " 4  "
      ]
     },
     "metadata": {},
     "output_type": "display_data"
    }
   ],
   "source": [
    "# Lift and moment derivatives with pitch angle (Eq. 3.43)\n",
    "display(sym.diff(c_l0,a0),sym.diff(c_l0,a1),sym.simplify(sym.diff(c_m0,a0)),sym.simplify(sym.diff(c_m0,a1)))"
   ]
  },
  {
   "cell_type": "code",
   "execution_count": 141,
   "metadata": {},
   "outputs": [
    {
     "data": {
      "image/png": "[encoded data removed]",
      "text/latex": [
       "$\\displaystyle - 2 \\theta_{fh} + 2 \\sin{\\left(\\theta_{fh} \\right)} + 2 \\pi$"
      ],
      "text/plain": [
       "-2*theta_fh + 2*sin(theta_fh) + 2*pi"
      ]
     },
     "metadata": {},
     "output_type": "display_data"
    },
    {
     "data": {
      "image/png": "[encoded data removed]",
      "text/latex": [
       "$\\displaystyle - 2 \\theta_{fh} \\cos{\\left(\\theta_{fh} \\right)} - \\theta_{fh} + 2 \\sin{\\left(\\theta_{fh} \\right)} + \\frac{\\sin{\\left(2 \\theta_{fh} \\right)}}{2} + 2 \\pi \\cos{\\left(\\theta_{fh} \\right)} + \\pi$"
      ],
      "text/plain": [
       "                                                         sin(2*theta_fh)                          \n",
       "-2*theta_fh*cos(theta_fh) - theta_fh + 2*sin(theta_fh) + --------------- + 2*pi*cos(theta_fh) + pi\n",
       "                                                                2                                 "
      ]
     },
     "metadata": {},
     "output_type": "display_data"
    },
    {
     "data": {
      "image/png": "[encoded data removed]",
      "text/latex": [
       "$\\displaystyle \\frac{\\left(\\cos{\\left(\\theta_{fh} \\right)} - 1\\right) \\sin{\\left(\\theta_{fh} \\right)}}{2}$"
      ],
      "text/plain": [
       "(cos(theta_fh) - 1)*sin(theta_fh)\n",
       "---------------------------------\n",
       "                2                "
      ]
     },
     "metadata": {},
     "output_type": "display_data"
    },
    {
     "data": {
      "image/png": "[encoded data removed]",
      "text/latex": [
       "$\\displaystyle \\frac{\\theta_{fh}}{4} - \\frac{\\sin^{3}{\\left(\\theta_{fh} \\right)}}{6} - \\frac{\\sin{\\left(2 \\theta_{fh} \\right)}}{8} - \\frac{\\pi}{4}$"
      ],
      "text/plain": [
       "              3                                 \n",
       "theta_fh   sin (theta_fh)   sin(2*theta_fh)   pi\n",
       "-------- - -------------- - --------------- - --\n",
       "   4             6                 8          4 "
      ]
     },
     "metadata": {},
     "output_type": "display_data"
    }
   ],
   "source": [
    "# Lift and moment derivatives with flap angle (Eq. 3.44)\n",
    "display(sym.simplify(sym.diff(c_l0,d0)),sym.simplify(sym.diff(c_l0,d1)),sym.simplify(sym.diff(c_m0,d0)),sym.expand(sym.trigsimp(sym.diff(c_m0,d1))))"
   ]
  },
  {
   "cell_type": "markdown",
   "metadata": {},
   "source": [
    "Non-stationary lift and moment coefficient, Eq. (3.39)"
   ]
  },
  {
   "cell_type": "code",
   "execution_count": 142,
   "metadata": {},
   "outputs": [],
   "source": [
    "c_l1=sym.pi*(A_0-A_2)\n",
    "c_m1=sym.pi/8*(-2*A_0+A_1+2*A_2-A_3)"
   ]
  },
  {
   "cell_type": "code",
   "execution_count": 143,
   "metadata": {},
   "outputs": [
    {
     "data": {
      "image/png": "[encoded data removed]",
      "text/latex": [
       "$\\displaystyle \\pi$"
      ],
      "text/plain": [
       "pi"
      ]
     },
     "metadata": {},
     "output_type": "display_data"
    },
    {
     "data": {
      "image/png": "[encoded data removed]",
      "text/latex": [
       "$\\displaystyle - \\pi \\nu_{ea}$"
      ],
      "text/plain": [
       "-pi*nu_ea"
      ]
     },
     "metadata": {},
     "output_type": "display_data"
    },
    {
     "data": {
      "image/png": "[encoded data removed]",
      "text/latex": [
       "$\\displaystyle - \\frac{\\pi}{4}$"
      ],
      "text/plain": [
       "-pi \n",
       "----\n",
       " 4  "
      ]
     },
     "metadata": {},
     "output_type": "display_data"
    },
    {
     "data": {
      "image/png": "[encoded data removed]",
      "text/latex": [
       "$\\displaystyle \\frac{\\pi \\left(4 \\nu_{ea} - 1\\right)}{16}$"
      ],
      "text/plain": [
       "pi*(4*nu_ea - 1)\n",
       "----------------\n",
       "       16       "
      ]
     },
     "metadata": {},
     "output_type": "display_data"
    }
   ],
   "source": [
    "# Lift and moment derivatives with pitch angle (Eq. 3.51)\n",
    "display(sym.diff(c_l1,a0),sym.diff(c_l1,a1),sym.simplify(sym.diff(c_m1,a0)),sym.simplify(sym.diff(c_m1,a1)))"
   ]
  },
  {
   "cell_type": "code",
   "execution_count": 144,
   "metadata": {},
   "outputs": [
    {
     "data": {
      "image/png": "[encoded data removed]",
      "text/latex": [
       "$\\displaystyle - \\theta_{fh} + \\frac{\\sin{\\left(2 \\theta_{fh} \\right)}}{2} + \\pi$"
      ],
      "text/plain": [
       "            sin(2*theta_fh)     \n",
       "-theta_fh + --------------- + pi\n",
       "                   2            "
      ]
     },
     "metadata": {},
     "output_type": "display_data"
    },
    {
     "data": {
      "image/png": "[encoded data removed]",
      "text/latex": [
       "$\\displaystyle - \\theta_{fh} \\cos{\\left(\\theta_{fh} \\right)} - \\frac{\\sin^{3}{\\left(\\theta_{fh} \\right)}}{3} + \\sin{\\left(\\theta_{fh} \\right)} + \\pi \\cos{\\left(\\theta_{fh} \\right)}$"
      ],
      "text/plain": [
       "                             3                                             \n",
       "                          sin (theta_fh)                                   \n",
       "-theta_fh*cos(theta_fh) - -------------- + sin(theta_fh) + pi*cos(theta_fh)\n",
       "                                3                                          "
      ]
     },
     "metadata": {},
     "output_type": "display_data"
    },
    {
     "data": {
      "image/png": "[encoded data removed]",
      "text/latex": [
       "$\\displaystyle \\frac{\\theta_{fh}}{4} - \\frac{\\sin{\\left(\\theta_{fh} \\right)}}{8} - \\frac{\\sin{\\left(2 \\theta_{fh} \\right)}}{8} + \\frac{\\sin{\\left(3 \\theta_{fh} \\right)}}{24} - \\frac{\\pi}{4}$"
      ],
      "text/plain": [
       "theta_fh   sin(theta_fh)   sin(2*theta_fh)   sin(3*theta_fh)   pi\n",
       "-------- - ------------- - --------------- + --------------- - --\n",
       "   4             8                8                24          4 "
      ]
     },
     "metadata": {},
     "output_type": "display_data"
    },
    {
     "data": {
      "image/png": "[encoded data removed]",
      "text/latex": [
       "$\\displaystyle \\frac{\\theta_{fh} \\cos{\\left(\\theta_{fh} \\right)}}{4} + \\frac{\\theta_{fh}}{16} - \\frac{3 \\sin{\\left(\\theta_{fh} \\right)}}{16} - \\frac{\\sin{\\left(2 \\theta_{fh} \\right)}}{24} - \\frac{\\sin{\\left(3 \\theta_{fh} \\right)}}{48} + \\frac{\\sin{\\left(4 \\theta_{fh} \\right)}}{192} - \\frac{\\pi \\cos{\\left(\\theta_{fh} \\right)}}{4} - \\frac{\\pi}{16}$"
      ],
      "text/plain": [
       "theta_fh*cos(theta_fh)   theta_fh   3*sin(theta_fh)   sin(2*theta_fh)   sin(3*theta_fh)   sin(4*theta_fh)   pi*cos(theta_fh)   pi\n",
       "---------------------- + -------- - --------------- - --------------- - --------------- + --------------- - ---------------- - --\n",
       "          4                 16            16                24                48                192                4           16"
      ]
     },
     "metadata": {},
     "output_type": "display_data"
    }
   ],
   "source": [
    "# Lift and moment derivatives with pitch angle (Eq. 3.52)\n",
    "display(sym.simplify(sym.diff(c_l1,d0)),sym.simplify(sym.diff(c_l1,d1)),sym.simplify(sym.diff(c_m1,d0)),sym.expand(sym.trigsimp(sym.diff(c_m1,d1))))"
   ]
  },
  {
   "cell_type": "markdown",
   "metadata": {},
   "source": [
    "Note finally that Some additional manipulation is needed to obtain the constants in the book.\n",
    "Rafa Palacios (r.palacios.imperial.ac.uk), March 2025"
   ]
  }
 ],
 "metadata": {
  "kernelspec": {
   "display_name": "base",
   "language": "python",
   "name": "python3"
  },
  "language_info": {
   "codemirror_mode": {
    "name": "ipython",
    "version": 3
   },
   "file_extension": ".py",
   "mimetype": "text/x-python",
   "name": "python",
   "nbconvert_exporter": "python",
   "pygments_lexer": "ipython3",
   "version": "3.10.9"
  }
 },
 "nbformat": 4,
 "nbformat_minor": 2
}
